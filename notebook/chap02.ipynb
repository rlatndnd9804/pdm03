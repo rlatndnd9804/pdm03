{
  "cells": [
    {
      "cell_type": "markdown",
      "metadata": {
        "id": "view-in-github",
        "colab_type": "text"
      },
      "source": [
        "<a href=\"https://colab.research.google.com/github/rlatndnd9804/pdm03/blob/main/notebook/chap02.ipynb\" target=\"_parent\"><img src=\"https://colab.research.google.com/assets/colab-badge.svg\" alt=\"Open In Colab\"/></a>"
      ]
    },
    {
      "cell_type": "code",
      "execution_count": 2,
      "metadata": {
        "id": "MsL7cYIQXdwX",
        "outputId": "125ecd4c-13de-4a8d-e66d-4da84e2063c0",
        "colab": {
          "base_uri": "https://localhost:8080/"
        }
      },
      "outputs": [
        {
          "output_type": "execute_result",
          "data": {
            "text/plain": [
              "314.0"
            ]
          },
          "metadata": {},
          "execution_count": 2
        }
      ],
      "source": [
        "3.14 * 10 * 10 "
      ]
    },
    {
      "cell_type": "code",
      "execution_count": 3,
      "metadata": {
        "id": "G9-bf8gYXdwZ",
        "outputId": "fed90c3d-3ac1-482e-cab9-db5eb9490f45",
        "colab": {
          "base_uri": "https://localhost:8080/"
        }
      },
      "outputs": [
        {
          "output_type": "execute_result",
          "data": {
            "text/plain": [
              "314.0"
            ]
          },
          "metadata": {},
          "execution_count": 3
        }
      ],
      "source": [
        "3.14 * 10**2"
      ]
    },
    {
      "cell_type": "code",
      "execution_count": 4,
      "metadata": {
        "id": "NRlPZOYXXdwZ",
        "colab": {
          "base_uri": "https://localhost:8080/"
        },
        "outputId": "5167aad4-17fa-427c-b09d-5ceca63d53d7"
      },
      "outputs": [
        {
          "output_type": "execute_result",
          "data": {
            "text/plain": [
              "int"
            ]
          },
          "metadata": {},
          "execution_count": 4
        }
      ],
      "source": [
        "type(10)"
      ]
    },
    {
      "cell_type": "code",
      "execution_count": 5,
      "metadata": {
        "id": "hk1LNf7FXdwa",
        "colab": {
          "base_uri": "https://localhost:8080/"
        },
        "outputId": "2899628d-3c76-4073-9c12-6f6e34a89b18"
      },
      "outputs": [
        {
          "output_type": "execute_result",
          "data": {
            "text/plain": [
              "float"
            ]
          },
          "metadata": {},
          "execution_count": 5
        }
      ],
      "source": [
        "type(3.14)"
      ]
    },
    {
      "cell_type": "code",
      "execution_count": 6,
      "metadata": {
        "id": "LdR_JGn-Xdwa",
        "colab": {
          "base_uri": "https://localhost:8080/"
        },
        "outputId": "d6b16782-d8bb-4aca-b9a7-a8e2da5a940c"
      },
      "outputs": [
        {
          "output_type": "execute_result",
          "data": {
            "text/plain": [
              "str"
            ]
          },
          "metadata": {},
          "execution_count": 6
        }
      ],
      "source": [
        "type(\"python\")"
      ]
    },
    {
      "cell_type": "code",
      "execution_count": 7,
      "metadata": {
        "id": "7UDlNtaAXdwa"
      },
      "outputs": [],
      "source": [
        " r = 20"
      ]
    },
    {
      "cell_type": "code",
      "execution_count": 8,
      "metadata": {
        "id": "drF9Cp1-Xdwb"
      },
      "outputs": [],
      "source": [
        "PI = 3.14\t\t# 원주율 정의"
      ]
    },
    {
      "cell_type": "code",
      "execution_count": 9,
      "metadata": {
        "id": "SQFbN4wUXdwb"
      },
      "outputs": [],
      "source": [
        "area = PI * r**2"
      ]
    },
    {
      "cell_type": "code",
      "execution_count": 10,
      "metadata": {
        "id": "33Fg7SKVXdwc",
        "colab": {
          "base_uri": "https://localhost:8080/"
        },
        "outputId": "c3b1fbc8-f2e4-4107-c058-22353ef9e348"
      },
      "outputs": [
        {
          "output_type": "execute_result",
          "data": {
            "text/plain": [
              "1256.0"
            ]
          },
          "metadata": {},
          "execution_count": 10
        }
      ],
      "source": [
        "area"
      ]
    },
    {
      "cell_type": "code",
      "execution_count": 11,
      "metadata": {
        "id": "79G8btJnXdwc"
      },
      "outputs": [],
      "source": [
        "lst = [ 10, 20, 30, 40, 50]\t\t# 리스트 정의"
      ]
    },
    {
      "cell_type": "code",
      "execution_count": 12,
      "metadata": {
        "id": "z8YuhI4KXdwc",
        "colab": {
          "base_uri": "https://localhost:8080/"
        },
        "outputId": "4db77693-d7a4-43d9-a507-33287016b5f6"
      },
      "outputs": [
        {
          "output_type": "execute_result",
          "data": {
            "text/plain": [
              "[10, 20, 30, 40, 50]"
            ]
          },
          "metadata": {},
          "execution_count": 12
        }
      ],
      "source": [
        "lst"
      ]
    },
    {
      "cell_type": "code",
      "execution_count": 13,
      "metadata": {
        "id": "rPZOFfnCXdwd",
        "colab": {
          "base_uri": "https://localhost:8080/"
        },
        "outputId": "255a20ea-56b1-4234-b12d-c307214cd3cc"
      },
      "outputs": [
        {
          "output_type": "execute_result",
          "data": {
            "text/plain": [
              "30"
            ]
          },
          "metadata": {},
          "execution_count": 13
        }
      ],
      "source": [
        "lst[2] \t\t\t\t# 리스트의 요소 접근"
      ]
    },
    {
      "cell_type": "code",
      "execution_count": 14,
      "metadata": {
        "id": "YOEgZ-BvXdwd"
      },
      "outputs": [],
      "source": [
        "lst[2] = 90\t\t\t# 세 번째 요소를 90으로 변경"
      ]
    },
    {
      "cell_type": "code",
      "execution_count": 15,
      "metadata": {
        "id": "IZjzz1kMXdwd",
        "colab": {
          "base_uri": "https://localhost:8080/"
        },
        "outputId": "1530cce9-ba66-47c8-d1b0-3875fe697de0"
      },
      "outputs": [
        {
          "output_type": "execute_result",
          "data": {
            "text/plain": [
              "[10, 20, 90, 40, 50]"
            ]
          },
          "metadata": {},
          "execution_count": 15
        }
      ],
      "source": [
        "lst"
      ]
    },
    {
      "cell_type": "code",
      "execution_count": 16,
      "metadata": {
        "id": "h8XUsiXiXdwe",
        "colab": {
          "base_uri": "https://localhost:8080/"
        },
        "outputId": "0c1b9947-a7a9-4977-9be0-d2d95159f319"
      },
      "outputs": [
        {
          "output_type": "execute_result",
          "data": {
            "text/plain": [
              "5"
            ]
          },
          "metadata": {},
          "execution_count": 16
        }
      ],
      "source": [
        "len(lst)"
      ]
    },
    {
      "cell_type": "code",
      "execution_count": 17,
      "metadata": {
        "id": "gOajeR4dXdwe",
        "colab": {
          "base_uri": "https://localhost:8080/"
        },
        "outputId": "5d210b2d-f3a8-4d64-af44-eb4b4b92cebc"
      },
      "outputs": [
        {
          "output_type": "execute_result",
          "data": {
            "text/plain": [
              "[10, 20, 90]"
            ]
          },
          "metadata": {},
          "execution_count": 17
        }
      ],
      "source": [
        "lst[0:3]"
      ]
    },
    {
      "cell_type": "code",
      "execution_count": 18,
      "metadata": {
        "id": "iOAF6ffGXdwe",
        "colab": {
          "base_uri": "https://localhost:8080/"
        },
        "outputId": "533b2723-5241-4687-b9e0-c456b23d665d"
      },
      "outputs": [
        {
          "output_type": "execute_result",
          "data": {
            "text/plain": [
              "[90, 40, 50]"
            ]
          },
          "metadata": {},
          "execution_count": 18
        }
      ],
      "source": [
        "lst[2:]\t"
      ]
    },
    {
      "cell_type": "code",
      "execution_count": 19,
      "metadata": {
        "id": "BrCdI6IhXdwe",
        "colab": {
          "base_uri": "https://localhost:8080/"
        },
        "outputId": "d6543f34-7119-49b4-9a3a-d19b2d6d3909"
      },
      "outputs": [
        {
          "output_type": "execute_result",
          "data": {
            "text/plain": [
              "[10, 20, 90]"
            ]
          },
          "metadata": {},
          "execution_count": 19
        }
      ],
      "source": [
        "lst[:3]"
      ]
    },
    {
      "cell_type": "code",
      "execution_count": 20,
      "metadata": {
        "id": "t_oVOj4XXdwf",
        "colab": {
          "base_uri": "https://localhost:8080/"
        },
        "outputId": "0436a273-122b-43b9-d3e5-826db9a0240b"
      },
      "outputs": [
        {
          "output_type": "execute_result",
          "data": {
            "text/plain": [
              "[10, 20, 90, 40]"
            ]
          },
          "metadata": {},
          "execution_count": 20
        }
      ],
      "source": [
        "lst[:-1]"
      ]
    },
    {
      "cell_type": "code",
      "execution_count": 21,
      "metadata": {
        "id": "CtIiuMZDXdwf"
      },
      "outputs": [],
      "source": [
        " car = { 'HP':200, 'make': \"BNW\" }\t# 딕셔너리 정의"
      ]
    },
    {
      "cell_type": "code",
      "execution_count": 22,
      "metadata": {
        "id": "5fWtRJTMXdwf",
        "colab": {
          "base_uri": "https://localhost:8080/"
        },
        "outputId": "cf623aac-e61f-40f7-d125-01c9ffc53a44"
      },
      "outputs": [
        {
          "output_type": "execute_result",
          "data": {
            "text/plain": [
              "200"
            ]
          },
          "metadata": {},
          "execution_count": 22
        }
      ],
      "source": [
        "car['HP']"
      ]
    },
    {
      "cell_type": "code",
      "execution_count": 23,
      "metadata": {
        "id": "ZKgp_zX3Xdwf"
      },
      "outputs": [],
      "source": [
        "car['color'] = \"white\""
      ]
    },
    {
      "cell_type": "code",
      "execution_count": 24,
      "metadata": {
        "id": "1bRDpyiMXdwg",
        "colab": {
          "base_uri": "https://localhost:8080/"
        },
        "outputId": "2834644c-616a-4ecd-8aa3-ce5f025ff860"
      },
      "outputs": [
        {
          "output_type": "execute_result",
          "data": {
            "text/plain": [
              "{'HP': 200, 'make': 'BNW', 'color': 'white'}"
            ]
          },
          "metadata": {},
          "execution_count": 24
        }
      ],
      "source": [
        "car"
      ]
    },
    {
      "cell_type": "code",
      "execution_count": 25,
      "metadata": {
        "id": "4XnEFpZvXdwg"
      },
      "outputs": [],
      "source": [
        "temp = -10"
      ]
    },
    {
      "cell_type": "code",
      "execution_count": 26,
      "metadata": {
        "id": "MnOLgKuOXdwg",
        "colab": {
          "base_uri": "https://localhost:8080/"
        },
        "outputId": "3e1a01cd-d866-4ca0-ae94-4fd95a9421bc"
      },
      "outputs": [
        {
          "output_type": "stream",
          "name": "stdout",
          "text": [
            "영하입니다.\n"
          ]
        }
      ],
      "source": [
        "if temp < 0 :\n",
        "    print(\"영하입니다.\")\t\n",
        "else:\n",
        "    print(\"영상입니다.\")"
      ]
    },
    {
      "cell_type": "code",
      "execution_count": 27,
      "metadata": {
        "id": "4ikLAIKKXdwg",
        "colab": {
          "base_uri": "https://localhost:8080/"
        },
        "outputId": "d254009c-eaa6-427f-fcb2-28b50f855444"
      },
      "outputs": [
        {
          "output_type": "stream",
          "name": "stdout",
          "text": [
            "1 2 3 4 5 "
          ]
        }
      ],
      "source": [
        "for i in [1, 2, 3, 4, 5] :\n",
        "    print(i, end=\" \")"
      ]
    },
    {
      "cell_type": "code",
      "execution_count": 28,
      "metadata": {
        "id": "Qw5wjc29Xdwh"
      },
      "outputs": [],
      "source": [
        "def sayHello():\n",
        "    print(\"Hello!\")"
      ]
    },
    {
      "cell_type": "code",
      "execution_count": 29,
      "metadata": {
        "id": "p13glvxEXdwh",
        "colab": {
          "base_uri": "https://localhost:8080/"
        },
        "outputId": "3e16bbe8-f4d4-4b02-bdab-532fb2825594"
      },
      "outputs": [
        {
          "output_type": "stream",
          "name": "stdout",
          "text": [
            "Hello!\n"
          ]
        }
      ],
      "source": [
        "sayHello()"
      ]
    },
    {
      "cell_type": "code",
      "execution_count": 30,
      "metadata": {
        "id": "VHaMOTjfXdwh"
      },
      "outputs": [],
      "source": [
        "class Person:\n",
        "  def __init__(self, name, age):\n",
        "    self.name = name\n",
        "    self.age = age\n",
        "\n",
        "  def sayHello(self):\n",
        "    print(\"Hello 나의 이름은 \" + self.name)"
      ]
    },
    {
      "cell_type": "code",
      "execution_count": 31,
      "metadata": {
        "id": "997tPr2EXdwh",
        "colab": {
          "base_uri": "https://localhost:8080/"
        },
        "outputId": "c72b42fa-0282-4745-ca30-d2f721950072"
      },
      "outputs": [
        {
          "output_type": "stream",
          "name": "stdout",
          "text": [
            "Hello 나의 이름은 John\n"
          ]
        }
      ],
      "source": [
        "p1 = Person(\"John\", 36)\n",
        "p1.sayHello()"
      ]
    },
    {
      "cell_type": "code",
      "execution_count": 31,
      "metadata": {
        "id": "uRo34758Xdwi"
      },
      "outputs": [],
      "source": []
    }
  ],
  "metadata": {
    "kernelspec": {
      "display_name": "Python 3",
      "language": "python",
      "name": "python3"
    },
    "language_info": {
      "codemirror_mode": {
        "name": "ipython",
        "version": 3
      },
      "file_extension": ".py",
      "mimetype": "text/x-python",
      "name": "python",
      "nbconvert_exporter": "python",
      "pygments_lexer": "ipython3",
      "version": "3.8.5"
    },
    "colab": {
      "provenance": [],
      "collapsed_sections": [],
      "include_colab_link": true
    }
  },
  "nbformat": 4,
  "nbformat_minor": 0
}